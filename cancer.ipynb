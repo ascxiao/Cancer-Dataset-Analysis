{
 "cells": [
  {
   "cell_type": "markdown",
   "metadata": {},
   "source": [
    "<b><h1> Cancer Dataset Analysis </h1></b>"
   ]
  },
  {
   "cell_type": "markdown",
   "metadata": {},
   "source": [
    "![title](dataset-cover.png)"
   ]
  },
  {
   "cell_type": "markdown",
   "metadata": {},
   "source": [
    "Cancer remains as one of the most difficult diseases to treat in the history of the medical field. It is important to analyze how much this disease affect different people in the world in order to be informed on how we could approach this issue. This dataset contains cancer-related patient data collected from various hospital regions. It includes demographic details, lifestyle factors, cancer diagnostics, treatment information, and outcomes for 17,686 patients. The data is structured to facilitate analysis of patterns in cancer diagnosis, treatment efficacy, and survival outcomes."
   ]
  },
  {
   "cell_type": "markdown",
   "metadata": {},
   "source": [
    "<h2>Importing the Dataset</h2>"
   ]
  },
  {
   "cell_type": "code",
   "execution_count": 2,
   "metadata": {},
   "outputs": [
    {
     "name": "stdout",
     "output_type": "stream",
     "text": [
      "<class 'pandas.core.frame.DataFrame'>\n",
      "RangeIndex: 17686 entries, 0 to 17685\n",
      "Data columns (total 16 columns):\n",
      " #   Column             Non-Null Count  Dtype  \n",
      "---  ------             --------------  -----  \n",
      " 0   PatientID          17686 non-null  int64  \n",
      " 1   Age                17686 non-null  int64  \n",
      " 2   Gender             17686 non-null  object \n",
      " 3   Race/Ethnicity     17686 non-null  object \n",
      " 4   BMI                17686 non-null  float64\n",
      " 5   SmokingStatus      17686 non-null  object \n",
      " 6   FamilyHistory      17686 non-null  object \n",
      " 7   CancerType         17686 non-null  object \n",
      " 8   Stage              17686 non-null  object \n",
      " 9   TumorSize          17686 non-null  float64\n",
      " 10  TreatmentType      17686 non-null  object \n",
      " 11  TreatmentResponse  17686 non-null  object \n",
      " 12  SurvivalMonths     17686 non-null  int64  \n",
      " 13  Recurrence         17686 non-null  object \n",
      " 14  GeneticMarker      13360 non-null  object \n",
      " 15  HospitalRegion     17686 non-null  object \n",
      "dtypes: float64(2), int64(3), object(11)\n",
      "memory usage: 2.2+ MB\n"
     ]
    }
   ],
   "source": [
    "import pandas as pd\n",
    "import numpy as np\n",
    "import seaborn as sns\n",
    "import matplotlib.pyplot as plt \n",
    "import statsmodels.formula.api as smf\n",
    "\n",
    "cancer = pd.read_csv('cancer issue.csv')\n",
    "cancer.info()"
   ]
  },
  {
   "cell_type": "markdown",
   "metadata": {},
   "source": [
    "<h2>Cleaning the Data </h2>"
   ]
  },
  {
   "cell_type": "code",
   "execution_count": 13,
   "metadata": {},
   "outputs": [],
   "source": [
    "cancer_transform = cancer.copy()\n",
    "\n",
    "def to_category(column, order = None):\n",
    "    \"\"\"\n",
    "    Convert a column to a category type.\n",
    "\n",
    "    Parameters:\n",
    "    column (str): The name of the column to convert.\n",
    "    order (list) [optional]: The order of the categories.\n",
    "\n",
    "    Returns:\n",
    "    None\n",
    "    \"\"\"\n",
    "    if order == None:\n",
    "        cancer_transform[column] = cancer_transform[column].astype('category')\n",
    "    else:\n",
    "        cancer_transform[column] = cancer_transform[column].astype('category').cat.set_categories(order, ordered = True)\n",
    "\n",
    "def to_int32(column):\n",
    "    \"\"\"\n",
    "    Convert a column to an int32 type.\n",
    "\n",
    "    Parameters:\n",
    "    column (str): The name of the column to convert.\n",
    "\n",
    "    Returns:\n",
    "    None\n",
    "    \"\"\"\n",
    "    cancer_transform[column] = cancer_transform[column].astype('int32')\n",
    "\n",
    "def to_float16(column):\n",
    "    \"\"\"\n",
    "    Convert a column to a float16 type.\n",
    "\n",
    "    Parameters:\n",
    "    column (str): The name of the column to convert.\n",
    "\n",
    "    Returns:\n",
    "    None\n",
    "    \"\"\"\n",
    "    cancer_transform[column] = cancer_transform[column].astype('float16')\n",
    "\n",
    "to_category('Gender')\n",
    "\n",
    "cancer_transform.rename(columns = {'Race/Ethnicity' : 'Race'}, inplace= True)\n",
    "to_category('Race')\n",
    "\n",
    "to_category('SmokingStatus')\n",
    "to_category('FamilyHistory')\n",
    "to_category('CancerType')\n",
    "to_category('Stage', order = ['I', 'II', 'III', 'IV'])\n",
    "to_category('TreatmentType')\n",
    "to_category('TreatmentResponse', order = ['No response', 'Partial remission', 'Complete remission'])\n",
    "to_category('Recurrence')\n",
    "to_category('GeneticMarker')\n",
    "to_category('HospitalRegion')\n",
    "\n",
    "to_int32('Age')\n",
    "to_int32('PatientID')\n",
    "to_int32('SurvivalMonths')\n",
    "\n",
    "to_float16('BMI')\n",
    "to_float16('TumorSize')"
   ]
  },
  {
   "cell_type": "markdown",
   "metadata": {},
   "source": [
    "<h2>Visualizing the difference of survivability of patient from each cancer type filtered by gender. </h2>"
   ]
  },
  {
   "cell_type": "code",
   "execution_count": 4,
   "metadata": {},
   "outputs": [
    {
     "data": {
      "image/png": "[encoded data removed]",
      "text/plain": [
       "<Figure size 640x480 with 1 Axes>"
      ]
     },
     "metadata": {},
     "output_type": "display_data"
    }
   ],
   "source": [
    "g = sns.boxplot(x = 'CancerType', y = 'SurvivalMonths', data = cancer_transform, hue = 'Gender')\n",
    "g.set(xlabel = 'Cancer Type', ylabel = 'Survival Months')\n",
    "\n",
    "plt.show()"
   ]
  },
  {
   "cell_type": "markdown",
   "metadata": {},
   "source": [
    "<h2>Visualizing cancer type prevalence in Asian ethnicity</h2>"
   ]
  },
  {
   "cell_type": "code",
   "execution_count": 5,
   "metadata": {},
   "outputs": [
    {
     "name": "stderr",
     "output_type": "stream",
     "text": [
      "C:\\Users\\Carlos Miguel\\AppData\\Local\\Temp\\ipykernel_2696\\446597179.py:3: FutureWarning: The default of observed=False is deprecated and will be changed to True in a future version of pandas. Pass observed=False to retain current behavior or observed=True to adopt the future default and silence this warning.\n",
      "  cancer_asians_survmonths = cancer_asians.groupby('CancerType')['SurvivalMonths'].mean()\n"
     ]
    },
    {
     "name": "stdout",
     "output_type": "stream",
     "text": [
      "CancerType\n",
      "Breast      61.018425\n",
      "Colon       57.825939\n",
      "Leukemia    61.434483\n",
      "Lung        60.333333\n",
      "Prostate    57.767101\n",
      "Skin        61.023179\n",
      "Name: SurvivalMonths, dtype: float64\n"
     ]
    },
    {
     "data": {
      "image/png": "[encoded data removed]",
      "text/plain": [
       "<Figure size 1011.11x500 with 2 Axes>"
      ]
     },
     "metadata": {},
     "output_type": "display_data"
    }
   ],
   "source": [
    "cancer_asians = cancer_transform[cancer_transform['Race'] == 'Asian']\n",
    "\n",
    "cancer_asians_survmonths = cancer_asians.groupby('CancerType')['SurvivalMonths'].mean()\n",
    "print(cancer_asians_survmonths)\n",
    "\n",
    "g = sns.catplot(x = 'CancerType', y = 'SurvivalMonths', data = cancer_asians, kind = 'point', col = 'Gender')\n",
    "g.set_axis_labels('Cancer Type', 'Months of Survivability')\n",
    "plt.show()\n",
    "plt.show()"
   ]
  },
  {
   "cell_type": "markdown",
   "metadata": {},
   "source": [
    "The point plot above shows the difference between months of survivability of patient with the different cancer types that they have. As shown, female patients with prostate cancer have lesser months of survivability while male patients with colon cancer have lesser months of survivability as well."
   ]
  },
  {
   "cell_type": "markdown",
   "metadata": {},
   "source": [
    "<h2>Sampling </h2>"
   ]
  },
  {
   "cell_type": "code",
   "execution_count": 6,
   "metadata": {},
   "outputs": [
    {
     "data": {
      "image/png": "[encoded data removed]",
      "text/plain": [
       "<Figure size 640x480 with 1 Axes>"
      ]
     },
     "metadata": {},
     "output_type": "display_data"
    }
   ],
   "source": [
    "sample_size = 100\n",
    "\n",
    "shuffled = cancer_transform.sample(frac = 1).reset_index(drop = True).reset_index()\n",
    "pop_size = len(shuffled)\n",
    "interval = pop_size // sample_size\n",
    "\n",
    "cancer_interval = cancer_transform.iloc[::interval]\n",
    "\n",
    "cancer_interval.plot(x = 'TumorSize', y = 'SurvivalMonths', kind = 'scatter')\n",
    "plt.show()"
   ]
  },
  {
   "cell_type": "markdown",
   "metadata": {},
   "source": [
    "As shown it shows that tumor size has a low correlation with the months of survivability of a patient."
   ]
  },
  {
   "cell_type": "code",
   "execution_count": 19,
   "metadata": {},
   "outputs": [
    {
     "name": "stderr",
     "output_type": "stream",
     "text": [
      "C:\\Users\\Carlos Miguel\\AppData\\Local\\Temp\\ipykernel_2696\\2549138124.py:1: FutureWarning: The default of observed=False is deprecated and will be changed to True in a future version of pandas. Pass observed=False to retain current behavior or observed=True to adopt the future default and silence this warning.\n",
      "  cancer_transform.groupby('Gender')['CancerType'].value_counts(normalize = True)\n"
     ]
    },
    {
     "data": {
      "text/plain": [
       "Gender  CancerType\n",
       "Female  Skin          0.174356\n",
       "        Lung          0.168309\n",
       "        Colon         0.166181\n",
       "        Leukemia      0.165733\n",
       "        Prostate      0.164390\n",
       "        Breast        0.161030\n",
       "Male    Breast        0.171311\n",
       "        Leukemia      0.168684\n",
       "        Prostate      0.167885\n",
       "        Colon         0.165601\n",
       "        Lung          0.164002\n",
       "        Skin          0.162517\n",
       "Name: proportion, dtype: float64"
      ]
     },
     "execution_count": 19,
     "metadata": {},
     "output_type": "execute_result"
    }
   ],
   "source": [
    "cancer_transform.groupby('Gender')['CancerType'].value_counts(normalize = True)"
   ]
  },
  {
   "cell_type": "markdown",
   "metadata": {},
   "source": [
    "As shown above, the most common cancer for women is skin cancer while breast cancer is the most common for men."
   ]
  },
  {
   "cell_type": "code",
   "execution_count": 16,
   "metadata": {},
   "outputs": [
    {
     "ename": "TypeError",
     "evalue": "'Series' object is not callable",
     "output_type": "error",
     "traceback": [
      "\u001b[1;31m---------------------------------------------------------------------------\u001b[0m",
      "\u001b[1;31mTypeError\u001b[0m                                 Traceback (most recent call last)",
      "Cell \u001b[1;32mIn[16], line 1\u001b[0m\n\u001b[1;32m----> 1\u001b[0m \u001b[43mcancer_transform\u001b[49m\u001b[43m[\u001b[49m\u001b[38;5;124;43m'\u001b[39;49m\u001b[38;5;124;43mRace\u001b[39;49m\u001b[38;5;124;43m'\u001b[39;49m\u001b[43m]\u001b[49m\u001b[43m(\u001b[49m\u001b[38;5;124;43m'\u001b[39;49m\u001b[38;5;124;43mCancerType\u001b[39;49m\u001b[38;5;124;43m'\u001b[39;49m\u001b[43m)\u001b[49m\u001b[38;5;241m.\u001b[39mvalue_counts(normalize \u001b[38;5;241m=\u001b[39m \u001b[38;5;28;01mTrue\u001b[39;00m)\n",
      "\u001b[1;31mTypeError\u001b[0m: 'Series' object is not callable"
     ]
    }
   ],
   "source": [
    "cancer_transform['Race'].value_counts(normalize = True)"
   ]
  },
  {
   "cell_type": "code",
   "execution_count": 10,
   "metadata": {},
   "outputs": [
    {
     "data": {
      "text/html": [
       "<div>\n",
       "<style scoped>\n",
       "    .dataframe tbody tr th:only-of-type {\n",
       "        vertical-align: middle;\n",
       "    }\n",
       "\n",
       "    .dataframe tbody tr th {\n",
       "        vertical-align: top;\n",
       "    }\n",
       "\n",
       "    .dataframe thead th {\n",
       "        text-align: right;\n",
       "    }\n",
       "</style>\n",
       "<table border=\"1\" class=\"dataframe\">\n",
       "  <thead>\n",
       "    <tr style=\"text-align: right;\">\n",
       "      <th></th>\n",
       "      <th>Feature</th>\n",
       "      <th>Accuracy</th>\n",
       "    </tr>\n",
       "  </thead>\n",
       "  <tbody>\n",
       "    <tr>\n",
       "      <th>0</th>\n",
       "      <td>Age</td>\n",
       "      <td>0.507350</td>\n",
       "    </tr>\n",
       "    <tr>\n",
       "      <th>1</th>\n",
       "      <td>Gender</td>\n",
       "      <td>0.501527</td>\n",
       "    </tr>\n",
       "    <tr>\n",
       "      <th>2</th>\n",
       "      <td>Race</td>\n",
       "      <td>0.502997</td>\n",
       "    </tr>\n",
       "    <tr>\n",
       "      <th>3</th>\n",
       "      <td>BMI</td>\n",
       "      <td>0.501018</td>\n",
       "    </tr>\n",
       "    <tr>\n",
       "      <th>4</th>\n",
       "      <td>TumorSize</td>\n",
       "      <td>0.503449</td>\n",
       "    </tr>\n",
       "    <tr>\n",
       "      <th>5</th>\n",
       "      <td>SmokingStatus</td>\n",
       "      <td>0.501527</td>\n",
       "    </tr>\n",
       "    <tr>\n",
       "      <th>6</th>\n",
       "      <td>FamilyHistory</td>\n",
       "      <td>0.501527</td>\n",
       "    </tr>\n",
       "    <tr>\n",
       "      <th>7</th>\n",
       "      <td>CancerType</td>\n",
       "      <td>0.501640</td>\n",
       "    </tr>\n",
       "    <tr>\n",
       "      <th>8</th>\n",
       "      <td>Stage</td>\n",
       "      <td>0.501527</td>\n",
       "    </tr>\n",
       "    <tr>\n",
       "      <th>9</th>\n",
       "      <td>GeneticMarker</td>\n",
       "      <td>0.507294</td>\n",
       "    </tr>\n",
       "  </tbody>\n",
       "</table>\n",
       "</div>"
      ],
      "text/plain": [
       "         Feature  Accuracy\n",
       "0            Age  0.507350\n",
       "1         Gender  0.501527\n",
       "2           Race  0.502997\n",
       "3            BMI  0.501018\n",
       "4      TumorSize  0.503449\n",
       "5  SmokingStatus  0.501527\n",
       "6  FamilyHistory  0.501527\n",
       "7     CancerType  0.501640\n",
       "8          Stage  0.501527\n",
       "9  GeneticMarker  0.507294"
      ]
     },
     "metadata": {},
     "output_type": "display_data"
    }
   ],
   "source": [
    "feature_accuracies = pd.DataFrame({'Feature': features, 'Accuracy': accuracies})\n",
    "\n",
    "display(feature_accuracies)"
   ]
  },
  {
   "cell_type": "markdown",
   "metadata": {},
   "source": [
    "<h1>Modeling logistic regression to predict recurrence level according to other features of the dataset</h1>"
   ]
  },
  {
   "cell_type": "code",
   "execution_count": 8,
   "metadata": {},
   "outputs": [],
   "source": [
    "# Convert categorical columns to numeric codes\n",
    "categorical_columns = cancer_transform.select_dtypes(['category']).columns\n",
    "\n",
    "for column in categorical_columns:\n",
    "    cancer_transform[column] = cancer_transform[column].cat.codes\n",
    "\n",
    "age_bins = [0, 16, 32, 48, 64, 80, 96]\n",
    "age_labels = [0, 1, 2, 3, 4, 5]\n",
    "\n",
    "cancer_transform['Age'] = pd.cut(cancer_transform['Age'], bins=age_bins, labels=age_labels)"
   ]
  },
  {
   "cell_type": "code",
   "execution_count": 9,
   "metadata": {},
   "outputs": [
    {
     "name": "stdout",
     "output_type": "stream",
     "text": [
      "Warning: Maximum number of iterations has been exceeded.\n",
      "         Current function value: 0.692990\n",
      "         Iterations: 35\n",
      "Optimization terminated successfully.\n",
      "         Current function value: 0.693142\n",
      "         Iterations 3\n",
      "Optimization terminated successfully.\n",
      "         Current function value: 0.693114\n",
      "         Iterations 3\n",
      "Optimization terminated successfully.\n",
      "         Current function value: 0.693141\n",
      "         Iterations 3\n",
      "Optimization terminated successfully.\n",
      "         Current function value: 0.693140\n",
      "         Iterations 3\n",
      "Optimization terminated successfully.\n",
      "         Current function value: 0.693141\n",
      "         Iterations 3\n",
      "Optimization terminated successfully.\n",
      "         Current function value: 0.693141\n",
      "         Iterations 3\n",
      "Optimization terminated successfully.\n",
      "         Current function value: 0.693135\n",
      "         Iterations 3\n",
      "Optimization terminated successfully.\n",
      "         Current function value: 0.693143\n",
      "         Iterations 3\n",
      "Optimization terminated successfully.\n",
      "         Current function value: 0.693023\n",
      "         Iterations 3\n"
     ]
    },
    {
     "name": "stderr",
     "output_type": "stream",
     "text": [
      "c:\\Users\\Carlos Miguel\\AppData\\Local\\Programs\\Python\\Python313\\Lib\\site-packages\\statsmodels\\base\\model.py:607: ConvergenceWarning: Maximum Likelihood optimization failed to converge. Check mle_retvals\n",
      "  warnings.warn(\"Maximum Likelihood optimization failed to \"\n"
     ]
    }
   ],
   "source": [
    "#Modeling\n",
    "\n",
    "models = []\n",
    "\n",
    "features = 'Age', 'Gender', 'Race', 'BMI', 'TumorSize', 'SmokingStatus', 'FamilyHistory', 'CancerType', 'Stage', 'GeneticMarker'\n",
    "\n",
    "for feature in features:\n",
    "    feature_formula = 'Recurrence ~ ' + feature\n",
    "    model = smf.logit(formula = feature_formula, data = cancer_transform).fit()\n",
    "    models.append(model)\n",
    "\n",
    "accuracies = []\n",
    "\n",
    "for model in models:\n",
    "    conf_matrix = model.pred_table()\n",
    "    TP,TN,FP,FN = conf_matrix[1,1], conf_matrix[0,0], conf_matrix[0,1], conf_matrix[1,0]\n",
    "    accuracy_score = (TN + TP) / (TN + TP + FN + FP)\n",
    "    accuracies.append(accuracy_score)"
   ]
  },
  {
   "cell_type": "markdown",
   "metadata": {},
   "source": [
    "I tried creating a prediction-accuracy table with logistic regression to predict the reccurence of the patient according to the different features of the dataset. It seems that no feature is reliable enough to be used as basis for the prediction of the reccurence of cancer of a patient."
   ]
  }
 ],
 "metadata": {
  "kernelspec": {
   "display_name": "Python 3",
   "language": "python",
   "name": "python3"
  },
  "language_info": {
   "codemirror_mode": {
    "name": "ipython",
    "version": 3
   },
   "file_extension": ".py",
   "mimetype": "text/x-python",
   "name": "python",
   "nbconvert_exporter": "python",
   "pygments_lexer": "ipython3",
   "version": "3.13.1"
  }
 },
 "nbformat": 4,
 "nbformat_minor": 2
}
